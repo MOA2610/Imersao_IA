{
  "nbformat": 4,
  "nbformat_minor": 0,
  "metadata": {
    "colab": {
      "provenance": [],
      "authorship_tag": "ABX9TyM5jcscFdd51K19lx5inRxH",
      "include_colab_link": true
    },
    "kernelspec": {
      "name": "python3",
      "display_name": "Python 3"
    },
    "language_info": {
      "name": "python"
    }
  },
  "cells": [
    {
      "cell_type": "markdown",
      "metadata": {
        "id": "view-in-github",
        "colab_type": "text"
      },
      "source": [
        "<a href=\"https://colab.research.google.com/github/MOA2610/Imersao_IA/blob/main/Projeto.ipynb\" target=\"_parent\"><img src=\"https://colab.research.google.com/assets/colab-badge.svg\" alt=\"Open In Colab\"/></a>"
      ]
    },
    {
      "cell_type": "code",
      "source": [
        "import google.generativeai as genai\n",
        "\n",
        "from google.colab import userdata\n",
        "\n",
        "GOOGLE_API_KEY=userdata.get(\"CHAVE_GOOGLE\")\n",
        "\n",
        "genai.configure(api_key=GOOGLE_API_KEY)"
      ],
      "metadata": {
        "id": "lPOr6V_kKp75"
      },
      "execution_count": 1,
      "outputs": []
    },
    {
      "cell_type": "code",
      "source": [
        "for m in genai.list_models():\n",
        "  if 'generateContent' in m.supported_generation_methods:\n",
        "      print(m.name)"
      ],
      "metadata": {
        "colab": {
          "base_uri": "https://localhost:8080/",
          "height": 139
        },
        "id": "gtJMR2UmK2bl",
        "outputId": "fbfcf457-175c-4c9f-da40-b90cfc381629"
      },
      "execution_count": 2,
      "outputs": [
        {
          "output_type": "stream",
          "name": "stdout",
          "text": [
            "models/gemini-1.0-pro\n",
            "models/gemini-1.0-pro-001\n",
            "models/gemini-1.0-pro-latest\n",
            "models/gemini-1.0-pro-vision-latest\n",
            "models/gemini-1.5-pro-latest\n",
            "models/gemini-pro\n",
            "models/gemini-pro-vision\n"
          ]
        }
      ]
    },
    {
      "cell_type": "code",
      "source": [
        "generation_config = {\n",
        "    \"candidate_count\": 1,\n",
        "    \"temperature\": 0.5,\n",
        "}\n",
        "\n",
        "safety_settings = {\n",
        "    \"HARASSMENT\": \"BLOCK_NONE\",\n",
        "    \"HATE\": \"BLOCK_NONE\",\n",
        "    \"SEXUAL\": \"BLOCK_NONE\",\n",
        "    \"DANGEROUS\": \"BLOCK_NONE\",\n",
        "}\n",
        "\n",
        "model = genai.GenerativeModel(model_name=\"gemini-1.0-pro\",\n",
        "                              generation_config=generation_config,\n",
        "                              safety_settings=safety_settings)"
      ],
      "metadata": {
        "id": "qHL-VQ8XLA_X"
      },
      "execution_count": 3,
      "outputs": []
    },
    {
      "cell_type": "markdown",
      "source": [
        "Lista das Cidades e pontos de visita"
      ],
      "metadata": {
        "id": "kDWw_idzL5FG"
      }
    },
    {
      "cell_type": "code",
      "source": [
        "import random\n",
        "\n",
        "# Chamada inicial para obter as cidades\n",
        "response = model.generate_content(\"Liste 5 cidades do mundo que possuem aeroportos internacionais, apenas os nomes listados separados por virgula\")\n",
        "\n",
        "# Extrair o texto da resposta\n",
        "texto_resposta = response.text\n",
        "\n",
        "# Dividir o texto em uma lista de cidades\n",
        "cidades = [cidade.strip() for cidade in texto_resposta.split(',')]\n",
        "\n",
        "# Criar uma lista para armazenar os dados de cada cidade\n",
        "dados_cidades = []\n",
        "\n",
        "# Para cada cidade, obter informações adicionais\n",
        "for cidade in cidades:\n",
        "  response = model.generate_content(f\"Liste o nome de um museu, um time de futebol e um lugar turístico em {cidade}, apenas com os nomes separados por vírgula\")\n",
        "  texto_resposta = response.text\n",
        "  museu, time, lugar = [item.strip() for item in texto_resposta.split(',')]\n",
        "  dados_cidades.append({\"cidade\": cidade, \"museu\": museu, \"time\": time, \"lugar\": lugar})\n",
        "\n",
        "\n",
        "# Lista para armazenar os 10 lugares a serem visitados, agora com a cidade\n",
        "lugares_a_visitar = []\n",
        "\n",
        "# Cidades visitadas\n",
        "cidades_visitadas = []\n",
        "\n",
        "# Enquanto não tiver visitado 10 lugares e ainda houver cidades para visitar\n",
        "while len(lugares_a_visitar) < 10 and len(cidades_visitadas) < len(cidades):\n",
        "\n",
        "  # Escolhe uma cidade aleatoriamente que ainda não foi visitada\n",
        "  cidade_escolhida = random.choice([cidade for cidade in cidades if cidade not in cidades_visitadas])\n",
        "\n",
        "  # Adiciona a cidade à lista de cidades visitadas\n",
        "  cidades_visitadas.append(cidade_escolhida)\n",
        "\n",
        "  # Obtém os dados da cidade escolhida\n",
        "  dados_cidade = next(cidade for cidade in dados_cidades if cidade['cidade'] == cidade_escolhida)\n",
        "\n",
        "  # Cria uma lista de possíveis lugares para visitar na cidade\n",
        "  lugares_possiveis = [\n",
        "      {'lugar': dados_cidade['museu'], 'cidade': cidade_escolhida},\n",
        "      {'lugar': dados_cidade['time'], 'cidade': cidade_escolhida},\n",
        "      {'lugar': dados_cidade['lugar'], 'cidade': cidade_escolhida}\n",
        "  ]\n",
        "\n",
        "  # Embaralha os lugares possíveis aleatoriamente\n",
        "  random.shuffle(lugares_possiveis)\n",
        "\n",
        "  # Adiciona os 2 primeiros lugares da lista aos lugares a visitar\n",
        "  for i in range(2):\n",
        "    if len(lugares_a_visitar) < 10:\n",
        "      lugares_a_visitar.append(lugares_possiveis[i])\n",
        "\n",
        "# Jogo \"Encontre seu Amigo\"\n",
        "print(\"Bem-vindo ao jogo 'Encontre seu Amigo'!\")\n",
        "print(\"Seu amigo está em uma aventura pelo mundo e você precisa encontrá-lo.\")\n",
        "print(\"Você tem 10 chances, uma para cada parada da viagem dele.\")\n",
        "\n",
        "tentativas_restantes = 10\n",
        "indice_lugar_atual = 0\n",
        "\n",
        "while tentativas_restantes > 0 and indice_lugar_atual < len(lugares_a_visitar):\n",
        "  lugar_atual = lugares_a_visitar[indice_lugar_atual]\n",
        "  cidade_atual = lugar_atual['cidade']\n",
        "\n",
        "  print(f\"\\nSeu amigo está em {cidade_atual}. Onde você vai procurá-lo?\")\n",
        "\n",
        "  # Obter os dados da cidade atual\n",
        "  dados_cidade = next(cidade for cidade in dados_cidades if cidade['cidade'] == cidade_atual)\n",
        "\n",
        "  # Criar uma lista com as opções de lugares na cidade\n",
        "  opcoes = [\n",
        "      dados_cidade['museu'],\n",
        "      dados_cidade['time'],\n",
        "      dados_cidade['lugar']\n",
        "  ]\n",
        "\n",
        "  # Exibir as opções para o jogador\n",
        "  for i, opcao in enumerate(opcoes):\n",
        "      print(f\"{i+1}. {opcao}\")\n",
        "\n",
        "  # Obter a escolha do jogador\n",
        "  escolha = input(\"Digite o número da sua escolha: \")\n",
        "\n",
        "  # Validar a escolha do jogador\n",
        "  while not escolha.isdigit() or int(escolha) not in range(1, 4):\n",
        "      escolha = input(\"Escolha inválida. Digite um número entre 1 e 3: \")\n",
        "\n",
        "  escolha = int(escolha) - 1\n",
        "\n",
        "  # Verificar se a escolha está correta\n",
        "  if opcoes[escolha] == lugar_atual['lugar']:\n",
        "      print(\"\\nParabéns! Você encontrou seu amigo e vai continuar a viagem com ele! 🎉\")\n",
        "      break\n",
        "  else:\n",
        "      tentativas_restantes -= 1\n",
        "      indice_lugar_atual += 1\n",
        "      print(f\"\\nInfelizmente vocês não se encontraram ainda, amanhã talvez encontre com seu amigo. Restam {tentativas_restantes} tentativas.\")\n",
        "\n",
        "# Fim do jogo\n",
        "if tentativas_restantes == 0:\n",
        "  print(\"\\nSuas tentativas acabaram! Você não conseguiu encontrar seu amigo. 😔\")"
      ],
      "metadata": {
        "colab": {
          "base_uri": "https://localhost:8080/",
          "height": 781
        },
        "id": "Vk1J9KSVMBZO",
        "outputId": "f4d0bf3f-7f5f-42f2-f2bc-1b4bd4b23fe2"
      },
      "execution_count": 19,
      "outputs": [
        {
          "output_type": "stream",
          "name": "stdout",
          "text": [
            "Bem-vindo ao jogo 'Encontre seu Amigo'!\n",
            "Seu amigo está em uma aventura pelo mundo e você precisa encontrá-lo.\n",
            "Você tem 10 chances, uma para cada parada da viagem dele.\n",
            "\n",
            "Seu amigo está em Paris. Onde você vai procurá-lo?\n",
            "1. Museu do Louvre\n",
            "2. Paris Saint-Germain\n",
            "3. Torre Eiffel\n",
            "Digite o número da sua escolha: 1\n",
            "\n",
            "Infelizmente vocês não se encontraram ainda, amanhã talvez encontre com seu amigo. Restam 9 tentativas.\n",
            "\n",
            "Seu amigo está em Paris. Onde você vai procurá-lo?\n",
            "1. Museu do Louvre\n",
            "2. Paris Saint-Germain\n",
            "3. Torre Eiffel\n",
            "Digite o número da sua escolha: 0\n",
            "Escolha inválida. Digite um número entre 1 e 3: 2\n",
            "\n",
            "Infelizmente vocês não se encontraram ainda, amanhã talvez encontre com seu amigo. Restam 8 tentativas.\n",
            "\n",
            "Seu amigo está em Londres. Onde você vai procurá-lo?\n",
            "1. Museu Britânico\n",
            "2. Chelsea\n",
            "3. Tower Bridge\n",
            "Digite o número da sua escolha: 3\n",
            "\n",
            "Infelizmente vocês não se encontraram ainda, amanhã talvez encontre com seu amigo. Restam 7 tentativas.\n",
            "\n",
            "Seu amigo está em Londres. Onde você vai procurá-lo?\n",
            "1. Museu Britânico\n",
            "2. Chelsea\n",
            "3. Tower Bridge\n",
            "Digite o número da sua escolha: 1\n",
            "\n",
            "Infelizmente vocês não se encontraram ainda, amanhã talvez encontre com seu amigo. Restam 6 tentativas.\n",
            "\n",
            "Seu amigo está em Nova York. Onde você vai procurá-lo?\n",
            "1. Museu Metropolitano de Arte\n",
            "2. New York Yankees\n",
            "3. Estátua da Liberdade\n",
            "Digite o número da sua escolha: 2\n",
            "\n",
            "Parabéns! Você encontrou seu amigo e vai continuar a viagem com ele! 🎉\n"
          ]
        }
      ]
    }
  ]
}